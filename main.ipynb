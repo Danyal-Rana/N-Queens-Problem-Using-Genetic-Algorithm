{
 "cells": [
  {
   "cell_type": "code",
   "execution_count": null,
   "metadata": {},
   "outputs": [],
   "source": [
    "import random\n",
    "import numpy as np"
   ]
  },
  {
   "cell_type": "code",
   "execution_count": null,
   "metadata": {},
   "outputs": [],
   "source": [
    "N = int(input(\"Enter the number of queens (N) [default 8]: \") or \"8\")\n",
    "population_size = int(input(\"Enter the population size [default 100]: \") or \"100\")\n",
    "mutation_rate = float(input(\"Enter the mutation rate [default 0.2]: \") or \"0.2\")\n",
    "max_generations = int(input(\"Enter the maximum number of generations [default 1000]: \") or \"1000\")"
   ]
  },
  {
   "cell_type": "code",
   "execution_count": null,
   "metadata": {},
   "outputs": [],
   "source": [
    "def fitness(individual):\n",
    "    non_attacking_pairs = 0\n",
    "    for i in range(len(individual)):\n",
    "        for j in range(i + 1, len(individual)):\n",
    "            # Check if queens are not attacking each other\n",
    "            if individual[i] != individual[j] and abs(individual[i] - individual[j]) != j - i:\n",
    "                non_attacking_pairs += 1\n",
    "    return non_attacking_pairs"
   ]
  },
  {
   "cell_type": "code",
   "execution_count": null,
   "metadata": {},
   "outputs": [],
   "source": [
    "def initialize_population(size, n):\n",
    "    return [random.sample(range(n), n) for _ in range(size)]\n",
    "\n",
    "population = initialize_population(population_size, N)"
   ]
  },
  {
   "cell_type": "code",
   "execution_count": null,
   "metadata": {},
   "outputs": [],
   "source": [
    "def select_parent(population):\n",
    "    tournament = random.sample(population, 5)\n",
    "    parent = max(tournament, key=fitness)\n",
    "    return parent"
   ]
  },
  {
   "cell_type": "code",
   "execution_count": null,
   "metadata": {},
   "outputs": [],
   "source": [
    "def crossover(parent1, parent2):\n",
    "    child = []\n",
    "    for i in range(N):\n",
    "        if random.random() < 0.5:\n",
    "            child.append(parent1[i])\n",
    "        else:\n",
    "            child.append(parent2[i])\n",
    "    return child"
   ]
  },
  {
   "cell_type": "code",
   "execution_count": null,
   "metadata": {},
   "outputs": [],
   "source": [
    "def mutate(individual, mutation_rate=0.2):\n",
    "    if random.random() < mutation_rate:\n",
    "        i = random.randint(0, N - 1)\n",
    "        individual[i] = random.randint(0, N - 1)\n",
    "    return individual"
   ]
  },
  {
   "cell_type": "code",
   "execution_count": null,
   "metadata": {},
   "outputs": [],
   "source": [
    "def genetic_algorithm():\n",
    "    global population\n",
    "    \n",
    "    for generation in range(max_generations):\n",
    "        fitness_scores = [fitness(individual) for individual in population]\n",
    "        \n",
    "        if max(fitness_scores) == N * (N - 1) // 2:\n",
    "            solution = population[fitness_scores.index(max(fitness_scores))]\n",
    "            print(f\"Solution found in generation {generation}\")\n",
    "            return solution\n",
    "        \n",
    "        next_generation = []\n",
    "        for _ in range(population_size // 2):\n",
    "            parent1 = select_parent(population)\n",
    "            parent2 = select_parent(population)\n",
    "            child1 = crossover(parent1, parent2)\n",
    "            child2 = crossover(parent1, parent2)\n",
    "            next_generation.append(mutate(child1))\n",
    "            next_generation.append(mutate(child2))\n",
    "        \n",
    "        population = next_generation\n",
    "    \n",
    "    best_individual = max(population, key=fitness)\n",
    "    print(\"No perfect solution found, returning best individual\")\n",
    "    return best_individual\n",
    "\n",
    "solution = genetic_algorithm()\n",
    "print(\"Solution:\", solution)"
   ]
  },
  {
   "cell_type": "code",
   "execution_count": null,
   "metadata": {},
   "outputs": [],
   "source": [
    "def display_board(solution):\n",
    "    board = np.zeros((N, N), dtype=int)\n",
    "    for row in range(N):\n",
    "        board[row, solution[row]] = 1\n",
    "    print(board)\n",
    "\n",
    "display_board(solution)"
   ]
  }
 ],
 "metadata": {
  "kernelspec": {
   "display_name": "Python 3",
   "language": "python",
   "name": "python3"
  },
  "language_info": {
   "codemirror_mode": {
    "name": "ipython",
    "version": 3
   },
   "file_extension": ".py",
   "mimetype": "text/x-python",
   "name": "python",
   "nbconvert_exporter": "python",
   "pygments_lexer": "ipython3",
   "version": "3.12.6"
  }
 },
 "nbformat": 4,
 "nbformat_minor": 2
}
